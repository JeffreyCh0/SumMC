{
  "nbformat": 4,
  "nbformat_minor": 0,
  "metadata": {
    "colab": {
      "name": "Wikihow annotation_EMNLP2022",
      "provenance": [],
      "collapsed_sections": [
        "IDep3czUmfMs"
      ]
    },
    "kernelspec": {
      "name": "python3",
      "display_name": "Python 3"
    },
    "language_info": {
      "name": "python"
    }
  },
  "cells": [
    {
      "cell_type": "markdown",
      "metadata": {
        "id": "92SFGwO14E94"
      },
      "source": [
        "# Instructions for WSD annotation\n",
        "\n",
        "In this assignment, we'll ask you to perform annotation for a Word Sense Disambiguation task.  \n",
        "\n",
        "## What is Word Sense Disambiguation (WSD)?\n",
        "WSD is an NLP problem which asks a classifier to distinguish different senses of a \"polysemous\" word.  Polysemy means many senses. For example, consider the word \"bank\" in these two sentences:\n",
        "\n",
        "A) The **bank** was out of money.\n",
        "\n",
        "B) The river **bank** was flooded.\n",
        "\n",
        "In sentence A, \"bank\" is a financial institution, while in sentence B \"bank\" means the area between high and low tide marks. Distinguishing between different word senses given a context is a challenging task for computers.  The annotations that you provide in this proejct will allow us to train a model to  perform better!\n",
        "\n",
        "## What should I do?\n",
        "In each round, you will first read some example sentences from an [Wikihow](https://www.wikihow.com/Main-Page) article. After reading, you will be shown a list of possible definitions of a highlighted polysemous word, and asked to choose the most appopriate definition for the polysemous word among different senses. \n",
        "\n",
        "Here is an example: \n",
        "\n",
        "=============================================\n",
        "\n",
        "#### Please read the example sentences from a Wikihow article:\n",
        " \n",
        "\n",
        "Title:  How to Remove an Effect in Final Cut Pro\n",
        "\n",
        "...Double-click directly on the clip to enlarge and display it in the Viewer **window.**...\n",
        "\n",
        "...The Viewer **window** is an area in the top middle section of your project session that allows you to preview your edits.... \n",
        "\n",
        "...Select the \"Audio\" or \"Video\" button at the top of the Inspector **window.**... \n",
        "\n",
        "<br>\n",
        " \n",
        "#### Which of the following describes the word \"window\"  best?\n",
        "\n",
        "**0**: window: opening in a wall, door, roof or vehicle that allows the passage of light.\n",
        "\n",
        "**1**: window: visual area containing some kind of user interface.\n",
        "\n",
        "=============================================\n",
        "\n",
        "Idially you should select 1 instead of 0.\n",
        "\n",
        "## Some notes before you start\n",
        "1. A csv file `annotation_ID.csv` will be generated in your **Google Drive's root directory**. Please upload your csv file to gradescope after annotation.\n",
        "2. If you want to **continue your previous work**, please make sure you have `annotation_ID.csv` in your Google Drive's root directory before running `annotaion()`. The program will ask you to continue your work.\n",
        "3. If you are not sure what to choose, you can click the **hyperlink** on each selection to get more information.\n",
        "4. If you think there are multiple answers, you can enter a comma seperated list. (ex. 0, 2, 3)\n",
        "5. **[IMPORTANT]** If your performance is poor, the program may stop you from further annotation."
      ]
    },
    {
      "cell_type": "markdown",
      "metadata": {
        "id": "WxMxtV6SLWEg"
      },
      "source": [
        "# Input your information\n",
        "\n",
        "Before you begin, we'll ask for 2 piece of information.\n",
        "1. We'll ask you to enter your ID number.\n",
        "2. The colab notebook will generate a link that will allow you to sign in to your google drive, and copy a code that will grant the notebook the ability to save a file in your Google Drive folder.  The notebook will save your annotation file to your Google drive after you're done working, so that you can continue working on it later, and so that you can upload it to Gradescope. "
      ]
    },
    {
      "cell_type": "markdown",
      "metadata": {
        "id": "HiuN6XapLolR"
      },
      "source": [
        "Please input your ID(number)"
      ]
    },
    {
      "cell_type": "code",
      "metadata": {
        "id": "CYZz6i2um04r"
      },
      "source": [
        "print(\"Please input your ID number\")\n",
        "id = input()"
      ],
      "execution_count": null,
      "outputs": []
    },
    {
      "cell_type": "markdown",
      "metadata": {
        "id": "ocWs3XMSLrQr"
      },
      "source": [
        "Access to your Google Drive is required for reading and saving your annotation result(annotation_ID.csv) in your drive's root directory.\n"
      ]
    },
    {
      "cell_type": "code",
      "metadata": {
        "id": "M-t2Oe6PEAQg"
      },
      "source": [
        "from google.colab import drive\n",
        "drive.mount('/content/drive')"
      ],
      "execution_count": null,
      "outputs": []
    },
    {
      "cell_type": "markdown",
      "metadata": {
        "id": "IDep3czUmfMs"
      },
      "source": [
        "# Initialize the notebook\n",
        "Please run this block! You don't have to expand it."
      ]
    },
    {
      "cell_type": "code",
      "metadata": {
        "id": "lCaVW89kXIsK"
      },
      "source": [
        "try:\n",
        "    id\n",
        "except:\n",
        "    raise ValueError('please input id.')\n",
        "\n",
        "if len(id) == 0:\n",
        "    raise ValueError('please input id.')\n",
        "\n",
        "if not id.isnumeric():\n",
        "    raise ValueError('please input valid id(number ONLY).')\n",
        "\n",
        "\n",
        "import pickle\n",
        "import random\n",
        "import csv\n",
        "import re\n",
        "import os\n",
        "from os import listdir\n",
        "from os.path import isfile, join\n",
        "from IPython.display import clear_output, HTML, display, Markdown\n",
        "import datetime\n",
        "\n",
        "def comma2list(input):\n",
        "  input = re.sub(',\\s+',',',input)\n",
        "  return input.split(',')\n",
        "  \n",
        "def set_css():\n",
        "  display(HTML('''\n",
        "  <style>\n",
        "    pre {\n",
        "        white-space: pre-wrap;\n",
        "    }\n",
        "  </style>\n",
        "  '''))\n",
        "get_ipython().events.register('pre_run_cell', set_css)\n",
        "\n",
        "!wget https://osf.io/p26by/download --output-document=df_wikihow.csv\n",
        "!wget https://osf.io/agtrn/download --output-document=nodes_desc.pickle\n",
        "!wget https://osf.io/aumwh/download --output-document=word_nodes.pickle\n",
        "!wget https://osf.io/jgakd/download --output-document=control.csv\n",
        "\n",
        "dict_wikihow = {}\n",
        "dict_wikihow['title'] = []\n",
        "dict_wikihow['url'] = []\n",
        "dict_wikihow['text'] = []\n",
        "dict_wikihow['target'] = []\n",
        "\n",
        "with open('df_wikihow.csv', newline='') as f:\n",
        "    reader = csv.reader(f, delimiter=',')\n",
        "    for i_row, row in enumerate(reader):\n",
        "        if i_row != 0:\n",
        "            dict_wikihow['title'].append(row[0])\n",
        "            dict_wikihow['url'].append(row[1])\n",
        "            dict_wikihow['text'].append(row[2])\n",
        "            dict_wikihow['target'].append(row[3])\n",
        "\n",
        "with open('word_nodes.pickle', 'rb') as handle:\n",
        "    word_nodes = pickle.load(handle)\n",
        "    \n",
        "with open('nodes_desc.pickle', 'rb') as handle:\n",
        "    nodes_desc = pickle.load(handle)\n",
        "\n",
        "control_word = []\n",
        "control_qnode = []\n",
        "control_url =[]\n",
        "\n",
        "with open('control.csv', newline='') as f:\n",
        "    reader = csv.reader(f, delimiter=',')\n",
        "    for i_row, row in enumerate(reader):\n",
        "        if i_row != 0:\n",
        "            control_url.append(row[0])\n",
        "            control_qnode.append(row[1])\n",
        "            control_word.append(row[2])\n",
        "\n",
        "k = len(dict_wikihow['title'])"
      ],
      "execution_count": null,
      "outputs": []
    },
    {
      "cell_type": "code",
      "metadata": {
        "id": "XLZLrYxMnHvZ",
        "colab": {
          "base_uri": "https://localhost:8080/"
        },
        "outputId": "4dbc3146-51b2-4ad8-e4d5-192cb3f5b3df"
      },
      "source": [
        "def annotation():\n",
        "  idx_list = [i for i in range(k)]\n",
        "  controls = [i for i in range(30)]\n",
        "  control_acc = []\n",
        "  answered = 0\n",
        "  errors = 0\n",
        "  try:\n",
        "      random.Random(str(id)).shuffle(idx_list)\n",
        "  except:\n",
        "      print('please input id')\n",
        "      return\n",
        "\n",
        "  path = '/content/drive/My Drive/'\n",
        "  onlyfiles = [f for f in listdir(path) if isfile(join(path, f))]\n",
        "  if 'annotation_'+id+'.csv' not in onlyfiles:\n",
        "      with open(path+'annotation_'+id+'.csv','a') as fd:\n",
        "          writer = csv.writer(fd)\n",
        "          writer.writerow(['word', 'qnode', 'url','id','start_time','end_time'])\n",
        "          # print('generated file: annotation_'+id+'.csv')\n",
        "  else:\n",
        "      with open(path+'annotation_'+id+'.csv','r') as f:\n",
        "          reader = csv.reader(f, delimiter=',')\n",
        "          prev_progress = len(list(reader))-1\n",
        "      condition = False\n",
        "      while condition == False:\n",
        "          print('annotation_'+id+'.csv is found in the directory.')\n",
        "          print('There are '+'\\x1b[1;36m'+str(prev_progress)+'\\x1b[0m'+' questions have been answered.')\n",
        "          print('Do you want to continue your previous progress?')\n",
        "          print()\n",
        "          print('\\x1b[1;36m'+'0'+'\\x1b[0m'+': continue')\n",
        "          print('\\x1b[1;36m'+'1'+'\\x1b[0m'+': start from beginning')\n",
        "          print('\\x1b[1;36m'+'x'+'\\x1b[0m'+': EXIT PROGRAM')\n",
        "          print()\n",
        "          user_input = input('Your answer:')\n",
        "          if user_input == '0':\n",
        "              answered = prev_progress\n",
        "              idx_list = idx_list[answered:]\n",
        "              condition = True\n",
        "              clear_output(wait = True)\n",
        "          elif user_input == '1':\n",
        "              os.remove(path+'annotation_'+id+'.csv')\n",
        "              with open(path+'annotation_'+id+'.csv','a') as fd:\n",
        "                  writer = csv.writer(fd)\n",
        "                  writer.writerow(['word', 'qnode', 'url','id','start_time','end_time'])\n",
        "              condition = True\n",
        "              clear_output(wait = True)\n",
        "          elif user_input == 'x':\n",
        "                print()\n",
        "                clear_output(wait = True)\n",
        "                print('Thank you for your participation.')\n",
        "                print('you answered: ',answered, \" questions\")\n",
        "                return\n",
        "          else:\n",
        "                clear_output(wait = True)\n",
        "                print(\"invaild input, please try again.\")\n",
        "                print()\n",
        "\n",
        "  \n",
        "  while True:\n",
        "    if answered%10 == 0:\n",
        "        control_idx = random.choice(controls)\n",
        "        control_url_idx = dict_wikihow['url'].index(control_url[control_idx])\n",
        "        rand_title = dict_wikihow['title'][control_url_idx]\n",
        "        rand_url = dict_wikihow['url'][control_url_idx]\n",
        "        rand_text = dict_wikihow['text'][control_url_idx]\n",
        "        rand_target = control_word[control_idx]\n",
        "        control_indicator = True\n",
        "\n",
        "    else:\n",
        "        idx = idx_list[0]\n",
        "        idx_list = idx_list[1:]\n",
        "        rand_title = dict_wikihow['title'][idx]\n",
        "        rand_url = dict_wikihow['url'][idx]\n",
        "        rand_text = dict_wikihow['text'][idx]\n",
        "        rand_target = dict_wikihow['target'][idx]\n",
        "        control_indicator = False\n",
        "    \n",
        "    target_list = rand_target.split(', ')\n",
        "    for word in target_list:\n",
        "        start_time = str(datetime.datetime.now())\n",
        "        nodes = []\n",
        "        try:\n",
        "            nodes = nodes + word_nodes[word]\n",
        "        except:\n",
        "            pass\n",
        "        try:\n",
        "            if word[0].islower():\n",
        "                singular = p.singular_noun(word.lower())\n",
        "            if singular != word and singular != False:\n",
        "                nodes = nodes + word_nodes[singular]\n",
        "        except:\n",
        "            pass\n",
        "        nodes = list(set(nodes))\n",
        "        descs = [(nodes_desc[node], node) for node in nodes]\n",
        "        grid_size = 100\n",
        "        if len(descs)>0:  \n",
        "            descs_grid_list = [descs[i*grid_size:((i+1)*grid_size)] for i in range(int((len(descs)-1)/grid_size)+1)]\n",
        "            sent_list = re.split(r'(?<=[^A-Z].[.?]) +(?=[A-Z])', rand_text)\n",
        "            sent_list = [sent for sent in sent_list if word in sent.lower()]\n",
        "            solved = False\n",
        "            grid_idx = 0\n",
        "            while not solved:\n",
        "                print('currently answered: ',answered, \" questions\")\n",
        "                print()\n",
        "                print('============================================================')\n",
        "                print()\n",
        "                print('Please read the example sentences from an Wikihow article:')\n",
        "                print()\n",
        "                print('Title: ',rand_title)\n",
        "                print()\n",
        "                for sentence in random.sample(sent_list,k=min(5,len(sent_list))):\n",
        "                    sentence = sentence.split()\n",
        "                    sentence = ['\\x1b[1;31m'+w+'\\x1b[0m' if word in w.lower() else w for w in sentence]\n",
        "                    sentence = ' '.join(sentence)\n",
        "                    print('...'+sentence+'...')\n",
        "                print()\n",
        "                print('------------------------------------------------------------')\n",
        "                print()\n",
        "                print('Which of the following describes the word','\\x1b[1;31m'+word+'\\x1b[0m',' best?\\n(If more than one choice applies, you can write a comma seperated list of numbers.)')\n",
        "                print()\n",
        "                descs_grid = descs_grid_list[grid_idx]\n",
        "                if grid_idx>0:\n",
        "                    print('\\x1b[1;36m'+\"p\"+'\\x1b[0m'+\": ** PREVIOUS PAGE **\")\n",
        "                for idx_desc,desc in enumerate(descs_grid):\n",
        "                    if str(desc[1])[0] == 'Q':\n",
        "                        display(Markdown(\"{num}: [{word}]({url}): {desc}\".format(num = str(idx_desc),word = word, url = 'https://www.wikidata.org/wiki/'+str(desc[1]),desc = desc[0])))\n",
        "                    else:\n",
        "                        display(Markdown(\"{num}: [{word}]({url}): {desc}\".format(num = str(idx_desc),word = word, url = 'https://www.wikidata.org/wiki/Property:'+str(desc[1]),desc = desc[0])))\n",
        "                    # print('\\x1b[1;36m'+str(idx_desc)+'\\x1b[0m'+\":\",word+': '+desc[0])\n",
        "                print('\\x1b[1;36m'+str(idx_desc+1)+'\\x1b[0m'+':','NO ANSWER')\n",
        "                if grid_idx<len(descs_grid_list)-1:\n",
        "                    print('\\x1b[1;36m'+'n'+'\\x1b[0m'+': ** NEXT PAGE **')\n",
        "                print()\n",
        "                print('\\x1b[1;36m'+'x'+'\\x1b[0m'+': EXIT PROGRAM')\n",
        "                print()\n",
        "                print()\n",
        "                print()\n",
        "                user_input = input('Your answer:')\n",
        "                if user_input == 'p':\n",
        "                    grid_idx = grid_idx -1\n",
        "                    clear_output(wait = True)\n",
        "                    continue\n",
        "                elif user_input == 'n':\n",
        "                    grid_idx = grid_idx + 1\n",
        "                    clear_output(wait = True)\n",
        "                    continue\n",
        "                elif user_input == 'x':\n",
        "                    print()\n",
        "                    clear_output(wait = True)\n",
        "                    print('Thank you for your participation.')\n",
        "                    print('you answered: ',answered, \" questions\")\n",
        "                    return\n",
        "                elif sum([x not in [str(num) for num in range(idx_desc+1)] for x in comma2list(user_input)])==0:\n",
        "                    # picked an answer/ list of answers\n",
        "                    solved = True\n",
        "                    clear_output(wait = True)\n",
        "                    print('answer recorded!')\n",
        "                    answered += 1\n",
        "                    with open(path+'annotation_'+id+'.csv','a') as fd:\n",
        "                        writer = csv.writer(fd)\n",
        "                        answer_list_input = ','.join([descs_grid[int(x)][1] for x in comma2list(user_input)])\n",
        "                        writer.writerow([word, answer_list_input, rand_url, id, start_time, str(datetime.datetime.now())])\n",
        "                    if control_indicator:\n",
        "                        if sum([x in control_qnode[control_idx] for x in answer_list_input])>0:\n",
        "                            control_acc.append(1)\n",
        "                        else:\n",
        "                            control_acc.append(0)\n",
        "                elif user_input == str(idx_desc+1):\n",
        "                    # no answer\n",
        "                    solved = True\n",
        "                    clear_output(wait = True)\n",
        "                    print('answer recorded!')\n",
        "                    answered += 1\n",
        "                    with open(path+'annotation_'+id+'.csv','a') as fd:\n",
        "                        writer = csv.writer(fd)\n",
        "                        writer.writerow([word, None, rand_url, id, start_time, str(datetime.datetime.now())])\n",
        "                    if control_indicator:\n",
        "                        control_acc.append(0)\n",
        "                else:\n",
        "                    clear_output(wait = True)\n",
        "                    print(\"invaild input, please try again.\")\n",
        "                    \n"
      ],
      "execution_count": null,
      "outputs": [
        {
          "output_type": "display_data",
          "data": {
            "text/plain": [
              "<IPython.core.display.HTML object>"
            ],
            "text/html": [
              "\n",
              "  <style>\n",
              "    pre {\n",
              "        white-space: pre-wrap;\n",
              "    }\n",
              "  </style>\n",
              "  "
            ]
          },
          "metadata": {}
        }
      ]
    },
    {
      "cell_type": "markdown",
      "metadata": {
        "id": "msiuBIxQmzGl"
      },
      "source": [
        "# Annotate"
      ]
    },
    {
      "cell_type": "markdown",
      "metadata": {
        "id": "q85cLgMz9bqJ"
      },
      "source": [
        "Please run the code below to start annotation. \n",
        "\n",
        "If you don't want to do all your annotations all at once, you can choose 'x' to exit the program.  This will save your progress.  You can come back to the colab notebook later and run it again to resume."
      ]
    },
    {
      "cell_type": "code",
      "metadata": {
        "id": "4933hRoZndbB"
      },
      "source": [
        "annotation()"
      ],
      "execution_count": null,
      "outputs": []
    }
  ]
}